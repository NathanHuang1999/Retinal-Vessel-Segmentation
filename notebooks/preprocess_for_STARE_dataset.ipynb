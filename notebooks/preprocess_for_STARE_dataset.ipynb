{
  "nbformat": 4,
  "nbformat_minor": 0,
  "metadata": {
    "colab": {
      "name": "preprocess_for_STARE_dataset.ipynb",
      "provenance": [],
      "collapsed_sections": []
    },
    "kernelspec": {
      "name": "python3",
      "display_name": "Python 3"
    },
    "language_info": {
      "name": "python"
    }
  },
  "cells": [
    {
      "cell_type": "markdown",
      "metadata": {
        "id": "KxCrNC1t38NL"
      },
      "source": [
        "## Mount Drive"
      ]
    },
    {
      "cell_type": "code",
      "metadata": {
        "colab": {
          "base_uri": "https://localhost:8080/"
        },
        "id": "7iyjF02gdOlt",
        "outputId": "7b852c87-51f3-4ce9-d2b7-a188ff342824"
      },
      "source": [
        "from google.colab import drive\n",
        "drive.mount('/content/drive')"
      ],
      "execution_count": null,
      "outputs": [
        {
          "output_type": "stream",
          "text": [
            "Mounted at /content/drive\n"
          ],
          "name": "stdout"
        }
      ]
    },
    {
      "cell_type": "markdown",
      "metadata": {
        "id": "plX05NsM3_tK"
      },
      "source": [
        "## Imports"
      ]
    },
    {
      "cell_type": "code",
      "metadata": {
        "id": "ZO88bHizdH_L"
      },
      "source": [
        "import cv2\n",
        "import os\n",
        "from google.colab.patches import cv2_imshow\n",
        "import gzip\n",
        "import shutil\n",
        "import skimage.io as io"
      ],
      "execution_count": null,
      "outputs": []
    },
    {
      "cell_type": "markdown",
      "metadata": {
        "id": "GBGiYeLn4BhW"
      },
      "source": [
        "## Unzip Folders"
      ]
    },
    {
      "cell_type": "code",
      "metadata": {
        "id": "ID-J-w6AdqLt"
      },
      "source": [
        "def unzip_folder(folder_path):\n",
        "  for file in os.listdir(folder_path):   \n",
        "    with gzip.open(folder_path + '/' + file, 'rb') as f_in:\n",
        "      with open(folder_path + '/' + file.split('.')[0]+'.'+file.split('.')[1], 'wb') as f_out:\n",
        "          shutil.copyfileobj(f_in, f_out)"
      ],
      "execution_count": null,
      "outputs": []
    },
    {
      "cell_type": "code",
      "metadata": {
        "id": "8OwEBVYSdXXs"
      },
      "source": [
        "unzip_folder('/content/drive/MyDrive/AI_Projects/STARE/original_data/images_msf')"
      ],
      "execution_count": null,
      "outputs": []
    },
    {
      "cell_type": "code",
      "metadata": {
        "id": "RfLlqkkCiz0D"
      },
      "source": [
        "unzip_folder('/content/drive/MyDrive/AI_Projects/STARE/original_data/images_stare')"
      ],
      "execution_count": null,
      "outputs": []
    },
    {
      "cell_type": "code",
      "metadata": {
        "id": "gwrlhMU5izTR"
      },
      "source": [
        "unzip_folder('/content/drive/MyDrive/AI_Projects/STARE/original_data/labels_4')"
      ],
      "execution_count": null,
      "outputs": []
    },
    {
      "cell_type": "code",
      "metadata": {
        "id": "Ge9NxseSizRB"
      },
      "source": [
        "unzip_folder('/content/drive/MyDrive/AI_Projects/STARE/original_data/labels_vk')"
      ],
      "execution_count": null,
      "outputs": []
    },
    {
      "cell_type": "markdown",
      "metadata": {
        "id": "AiBvH5dT4lwr"
      },
      "source": [
        "## Padding Part\n",
        "Padding should be done because the size of the images must be divisible to 32. U-Net Architecture takes input images only that way."
      ]
    },
    {
      "cell_type": "code",
      "metadata": {
        "id": "2RnZK3EHj6_-"
      },
      "source": [
        "def pad(input_folder, output_folder):\n",
        "  for file in sorted(os.listdir(input_folder)):\n",
        "    if file.split('.')[-1] == 'ppm':\n",
        "      tmp = cv2.imread(input_folder + '/' + file, 0)\n",
        "      tmp = cv2.copyMakeBorder(tmp.copy(),1,2,2,2,cv2.BORDER_CONSTANT,value=(0,0,0))\n",
        "      io.imsave(output_folder + '/' + file, tmp)\n",
        "  print('Padding is done.')"
      ],
      "execution_count": null,
      "outputs": []
    },
    {
      "cell_type": "code",
      "metadata": {
        "colab": {
          "base_uri": "https://localhost:8080/"
        },
        "id": "d-hwkkZyp8Gw",
        "outputId": "1a5679da-e912-4a3e-ba83-ec5fe4a359a5"
      },
      "source": [
        "pad('/content/drive/MyDrive/AI_Projects/STARE/original_data/images_msf','/content/drive/MyDrive/AI_Projects/STARE/original_data/images_msf_padded')"
      ],
      "execution_count": null,
      "outputs": [
        {
          "output_type": "stream",
          "text": [
            "Padding is done.\n"
          ],
          "name": "stdout"
        }
      ]
    },
    {
      "cell_type": "code",
      "metadata": {
        "colab": {
          "base_uri": "https://localhost:8080/"
        },
        "id": "W2vNjtgYrIw2",
        "outputId": "ff9e586e-af23-4092-a93f-1e4cdd404072"
      },
      "source": [
        "pad('/content/drive/MyDrive/AI_Projects/STARE/original_data/images_stare','/content/drive/MyDrive/AI_Projects/STARE/original_data/images_stare_padded')"
      ],
      "execution_count": null,
      "outputs": [
        {
          "output_type": "stream",
          "text": [
            "Padding is done.\n"
          ],
          "name": "stdout"
        }
      ]
    },
    {
      "cell_type": "code",
      "metadata": {
        "colab": {
          "base_uri": "https://localhost:8080/"
        },
        "id": "LvO_U4SJrIrS",
        "outputId": "7c662808-c337-48b0-acfe-668f3b8dd306"
      },
      "source": [
        "pad('/content/drive/MyDrive/AI_Projects/STARE/original_data/labels_4','/content/drive/MyDrive/AI_Projects/STARE/original_data/labels_4_padded')"
      ],
      "execution_count": null,
      "outputs": [
        {
          "output_type": "stream",
          "text": [
            "Padding is done.\n"
          ],
          "name": "stdout"
        }
      ]
    },
    {
      "cell_type": "code",
      "metadata": {
        "colab": {
          "base_uri": "https://localhost:8080/"
        },
        "id": "SjZE418BrIiQ",
        "outputId": "a677b45e-c65c-449f-e61d-ab5123653e0a"
      },
      "source": [
        "pad('/content/drive/MyDrive/AI_Projects/STARE/original_data/labels_vk','/content/drive/MyDrive/AI_Projects/STARE/original_data/labels_vk_padded')"
      ],
      "execution_count": null,
      "outputs": [
        {
          "output_type": "stream",
          "text": [
            "Padding is done.\n"
          ],
          "name": "stdout"
        }
      ]
    },
    {
      "cell_type": "markdown",
      "metadata": {
        "id": "qLIVL9SQ5jyn"
      },
      "source": [
        "## Renaming (Optional)\n",
        "Rename images and labels from 0.ppm to 19.ppm."
      ]
    },
    {
      "cell_type": "code",
      "metadata": {
        "id": "fx81tcAoq2k-"
      },
      "source": [
        "def rename(input_path):\n",
        "  for i,img in enumerate(os.listdir(input_path)):\n",
        "    os.rename(input_path + '/' + img, input_path + '/' + str(i) + '.ppm')"
      ],
      "execution_count": null,
      "outputs": []
    },
    {
      "cell_type": "code",
      "metadata": {
        "id": "ESOnl4CKsh81"
      },
      "source": [
        "rename('/content/drive/MyDrive/AI_Projects/STARE/original_data/images_msf_padded')"
      ],
      "execution_count": null,
      "outputs": []
    },
    {
      "cell_type": "code",
      "metadata": {
        "id": "Ovgb9JbcvfMt"
      },
      "source": [
        "rename('/content/drive/MyDrive/AI_Projects/STARE/original_data/images_stare_padded')"
      ],
      "execution_count": null,
      "outputs": []
    },
    {
      "cell_type": "code",
      "metadata": {
        "id": "x_J4eOjovlFy"
      },
      "source": [
        "rename('/content/drive/MyDrive/AI_Projects/STARE/original_data/labels_4_padded')"
      ],
      "execution_count": null,
      "outputs": []
    },
    {
      "cell_type": "code",
      "metadata": {
        "id": "WyKQkN7jvlBe"
      },
      "source": [
        "rename('/content/drive/MyDrive/AI_Projects/STARE/original_data/labels_vk_padded')"
      ],
      "execution_count": null,
      "outputs": []
    },
    {
      "cell_type": "markdown",
      "metadata": {
        "id": "fugNcJUt5zOE"
      },
      "source": [
        "## PNG Transform"
      ]
    },
    {
      "cell_type": "code",
      "metadata": {
        "id": "77r2INgjxxXv"
      },
      "source": [
        "def png_transform(input_path, output_path):\n",
        "  for img in os.listdir(input_path):\n",
        "    tmp = cv2.imread(input_path +'/'+img,0)\n",
        "    cv2.imwrite(output_path + '/' + img.split('.')[0] + '.png', tmp)"
      ],
      "execution_count": null,
      "outputs": []
    },
    {
      "cell_type": "code",
      "metadata": {
        "id": "GDzY3XjMNeVo"
      },
      "source": [
        "png_transform('/content/drive/MyDrive/AI_Projects/STARE/original_data/test/labels', '/content/drive/MyDrive/AI_Projects/STARE/png_data/test/labels')"
      ],
      "execution_count": null,
      "outputs": []
    }
  ]
}